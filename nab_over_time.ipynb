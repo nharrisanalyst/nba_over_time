{
 "cells": [
  {
   "cell_type": "code",
   "execution_count": 94,
   "id": "9bca5ee4-cc5c-4c8a-a489-c5bb79b78491",
   "metadata": {},
   "outputs": [],
   "source": [
    "import json"
   ]
  },
  {
   "cell_type": "code",
   "execution_count": 145,
   "id": "ed0a7fe2-ddcf-4ab4-812a-69f19d6884bf",
   "metadata": {},
   "outputs": [],
   "source": [
    "import time"
   ]
  },
  {
   "cell_type": "code",
   "execution_count": 1,
   "id": "f75a5bbf-666c-4d44-a3d7-450711560061",
   "metadata": {},
   "outputs": [
    {
     "name": "stdout",
     "output_type": "stream",
     "text": [
      "Collecting nba_api\n",
      "  Downloading nba_api-1.7.0-py3-none-any.whl.metadata (5.5 kB)\n",
      "Collecting numpy<2.0.0,>=1.22.2 (from nba_api)\n",
      "  Downloading numpy-1.26.4-cp312-cp312-macosx_10_9_x86_64.whl.metadata (61 kB)\n",
      "\u001b[2K     \u001b[90m━━━━━━━━━━━━━━━━━━━━━━━━━━━━━━━━━━━━━━━━\u001b[0m \u001b[32m61.1/61.1 kB\u001b[0m \u001b[31m1.3 MB/s\u001b[0m eta \u001b[36m0:00:00\u001b[0ma \u001b[36m0:00:01\u001b[0m\n",
      "Requirement already satisfied: requests<3.0.0,>=2.32.3 in /Library/Frameworks/Python.framework/Versions/3.12/lib/python3.12/site-packages (from nba_api) (2.32.3)\n",
      "Requirement already satisfied: charset-normalizer<4,>=2 in /Library/Frameworks/Python.framework/Versions/3.12/lib/python3.12/site-packages (from requests<3.0.0,>=2.32.3->nba_api) (3.4.1)\n",
      "Requirement already satisfied: idna<4,>=2.5 in /Library/Frameworks/Python.framework/Versions/3.12/lib/python3.12/site-packages (from requests<3.0.0,>=2.32.3->nba_api) (3.10)\n",
      "Requirement already satisfied: urllib3<3,>=1.21.1 in /Library/Frameworks/Python.framework/Versions/3.12/lib/python3.12/site-packages (from requests<3.0.0,>=2.32.3->nba_api) (2.3.0)\n",
      "Requirement already satisfied: certifi>=2017.4.17 in /Library/Frameworks/Python.framework/Versions/3.12/lib/python3.12/site-packages (from requests<3.0.0,>=2.32.3->nba_api) (2025.1.31)\n",
      "Downloading nba_api-1.7.0-py3-none-any.whl (280 kB)\n",
      "\u001b[2K   \u001b[90m━━━━━━━━━━━━━━━━━━━━━━━━━━━━━━━━━━━━━━━━\u001b[0m \u001b[32m280.2/280.2 kB\u001b[0m \u001b[31m3.7 MB/s\u001b[0m eta \u001b[36m0:00:00\u001b[0ma \u001b[36m0:00:01\u001b[0m\n",
      "\u001b[?25hDownloading numpy-1.26.4-cp312-cp312-macosx_10_9_x86_64.whl (20.3 MB)\n",
      "\u001b[2K   \u001b[90m━━━━━━━━━━━━━━━━━━━━━━━━━━━━━━━━━━━━━━━━\u001b[0m \u001b[32m20.3/20.3 MB\u001b[0m \u001b[31m13.9 MB/s\u001b[0m eta \u001b[36m0:00:00\u001b[0m00:01\u001b[0m00:01\u001b[0m\n",
      "Installing collected packages: numpy, nba_api\n",
      "Successfully installed nba_api-1.7.0 numpy-1.26.4\n",
      "\n",
      "\u001b[1m[\u001b[0m\u001b[34;49mnotice\u001b[0m\u001b[1;39;49m]\u001b[0m\u001b[39;49m A new release of pip is available: \u001b[0m\u001b[31;49m24.0\u001b[0m\u001b[39;49m -> \u001b[0m\u001b[32;49m25.0.1\u001b[0m\n",
      "\u001b[1m[\u001b[0m\u001b[34;49mnotice\u001b[0m\u001b[1;39;49m]\u001b[0m\u001b[39;49m To update, run: \u001b[0m\u001b[32;49mpip3 install --upgrade pip\u001b[0m\n",
      "Note: you may need to restart the kernel to use updated packages.\n"
     ]
    }
   ],
   "source": [
    "pip install nba_api"
   ]
  },
  {
   "cell_type": "code",
   "execution_count": 58,
   "id": "94f023ad-31c5-4214-a475-66f515cf4375",
   "metadata": {},
   "outputs": [],
   "source": [
    "from nba_api.stats.endpoints import leaguedashteamstats"
   ]
  },
  {
   "cell_type": "code",
   "execution_count": 88,
   "id": "07e6f623-280c-4bfa-9ca4-4960a21c6c97",
   "metadata": {},
   "outputs": [],
   "source": [
    "stats_2024 = leaguedashteamstats.LeagueDashTeamStats(\n",
    "                                                     measure_type_detailed_defense=\"Advanced\", \n",
    "                                                     per_mode_detailed=\"Per100Possessions\",\n",
    "                                                     season=\"2024-25\",\n",
    "                                                    last_n_games=\"0\",\n",
    "                                                     month=\"0\",\n",
    "                                                     opponent_team_id=\"0\",\n",
    "                                                     pace_adjust=\"N\",\n",
    "                                                     period=\"0\",\n",
    "                                                     plus_minus=\"N\",\n",
    "                                                     rank=\"N\",\n",
    "                                                     season_type_all_star=\"Regular Season\"\n",
    "                                                    )"
   ]
  },
  {
   "cell_type": "code",
   "execution_count": 6,
   "id": "7bb545c0-526b-4dcf-8010-9081abe7efc1",
   "metadata": {},
   "outputs": [
    {
     "name": "stdout",
     "output_type": "stream",
     "text": [
      "Requirement already satisfied: beautifulsoup4 in /Library/Frameworks/Python.framework/Versions/3.12/lib/python3.12/site-packages (4.13.3)\n",
      "Requirement already satisfied: soupsieve>1.2 in /Library/Frameworks/Python.framework/Versions/3.12/lib/python3.12/site-packages (from beautifulsoup4) (2.6)\n",
      "Requirement already satisfied: typing-extensions>=4.0.0 in /Library/Frameworks/Python.framework/Versions/3.12/lib/python3.12/site-packages (from beautifulsoup4) (4.12.2)\n",
      "\n",
      "\u001b[1m[\u001b[0m\u001b[34;49mnotice\u001b[0m\u001b[1;39;49m]\u001b[0m\u001b[39;49m A new release of pip is available: \u001b[0m\u001b[31;49m24.0\u001b[0m\u001b[39;49m -> \u001b[0m\u001b[32;49m25.0.1\u001b[0m\n",
      "\u001b[1m[\u001b[0m\u001b[34;49mnotice\u001b[0m\u001b[1;39;49m]\u001b[0m\u001b[39;49m To update, run: \u001b[0m\u001b[32;49mpip3 install --upgrade pip\u001b[0m\n",
      "Note: you may need to restart the kernel to use updated packages.\n"
     ]
    }
   ],
   "source": [
    "pip install beautifulsoup4"
   ]
  },
  {
   "cell_type": "code",
   "execution_count": 7,
   "id": "631aa819-9892-4fbf-b129-aac83d0bfed2",
   "metadata": {},
   "outputs": [
    {
     "name": "stdout",
     "output_type": "stream",
     "text": [
      "Collecting pandas\n",
      "  Downloading pandas-2.2.3-cp312-cp312-macosx_10_9_x86_64.whl.metadata (89 kB)\n",
      "\u001b[2K     \u001b[90m━━━━━━━━━━━━━━━━━━━━━━━━━━━━━━━━━━━━━━━━\u001b[0m \u001b[32m89.9/89.9 kB\u001b[0m \u001b[31m1.1 MB/s\u001b[0m eta \u001b[36m0:00:00\u001b[0ma \u001b[36m0:00:01\u001b[0mm\n",
      "Requirement already satisfied: numpy>=1.26.0 in /Library/Frameworks/Python.framework/Versions/3.12/lib/python3.12/site-packages (from pandas) (1.26.4)\n",
      "Requirement already satisfied: python-dateutil>=2.8.2 in /Library/Frameworks/Python.framework/Versions/3.12/lib/python3.12/site-packages (from pandas) (2.9.0.post0)\n",
      "Collecting pytz>=2020.1 (from pandas)\n",
      "  Downloading pytz-2025.1-py2.py3-none-any.whl.metadata (22 kB)\n",
      "Collecting tzdata>=2022.7 (from pandas)\n",
      "  Downloading tzdata-2025.1-py2.py3-none-any.whl.metadata (1.4 kB)\n",
      "Requirement already satisfied: six>=1.5 in /Library/Frameworks/Python.framework/Versions/3.12/lib/python3.12/site-packages (from python-dateutil>=2.8.2->pandas) (1.17.0)\n",
      "Downloading pandas-2.2.3-cp312-cp312-macosx_10_9_x86_64.whl (12.5 MB)\n",
      "\u001b[2K   \u001b[90m━━━━━━━━━━━━━━━━━━━━━━━━━━━━━━━━━━━━━━━━\u001b[0m \u001b[32m12.5/12.5 MB\u001b[0m \u001b[31m1.7 MB/s\u001b[0m eta \u001b[36m0:00:00\u001b[0m00:01\u001b[0m00:01\u001b[0m\n",
      "Downloading pytz-2025.1-py2.py3-none-any.whl (507 kB)\n",
      "\u001b[2K   \u001b[90m━━━━━━━━━━━━━━━━━━━━━━━━━━━━━━━━━━━━━━━\u001b[0m \u001b[32m507.9/507.9 kB\u001b[0m \u001b[31m731.9 kB/s\u001b[0m eta \u001b[36m0:00:00\u001b[0m00:01\u001b[0m00:01\u001b[0m\n",
      "\u001b[?25hDownloading tzdata-2025.1-py2.py3-none-any.whl (346 kB)\n",
      "\u001b[2K   \u001b[90m━━━━━━━━━━━━━━━━━━━━━━━━━━━━━━━━━━━━━━━━\u001b[0m \u001b[32m346.8/346.8 kB\u001b[0m \u001b[31m1.6 MB/s\u001b[0m eta \u001b[36m0:00:00\u001b[0ma \u001b[36m0:00:01\u001b[0m\n",
      "Installing collected packages: pytz, tzdata, pandas\n",
      "Successfully installed pandas-2.2.3 pytz-2025.1 tzdata-2025.1\n",
      "\n",
      "\u001b[1m[\u001b[0m\u001b[34;49mnotice\u001b[0m\u001b[1;39;49m]\u001b[0m\u001b[39;49m A new release of pip is available: \u001b[0m\u001b[31;49m24.0\u001b[0m\u001b[39;49m -> \u001b[0m\u001b[32;49m25.0.1\u001b[0m\n",
      "\u001b[1m[\u001b[0m\u001b[34;49mnotice\u001b[0m\u001b[1;39;49m]\u001b[0m\u001b[39;49m To update, run: \u001b[0m\u001b[32;49mpip3 install --upgrade pip\u001b[0m\n",
      "Note: you may need to restart the kernel to use updated packages.\n"
     ]
    }
   ],
   "source": [
    "pip install pandas"
   ]
  },
  {
   "cell_type": "code",
   "execution_count": 21,
   "id": "d7cb6277-3a98-4e02-bebf-dd810daeaf4b",
   "metadata": {},
   "outputs": [
    {
     "name": "stdout",
     "output_type": "stream",
     "text": [
      "\u001b[31mERROR: Could not find a version that satisfies the requirement request (from versions: none)\u001b[0m\u001b[31m\n",
      "\u001b[0m\u001b[31mERROR: No matching distribution found for request\u001b[0m\u001b[31m\n",
      "\u001b[0m\n",
      "\u001b[1m[\u001b[0m\u001b[34;49mnotice\u001b[0m\u001b[1;39;49m]\u001b[0m\u001b[39;49m A new release of pip is available: \u001b[0m\u001b[31;49m24.0\u001b[0m\u001b[39;49m -> \u001b[0m\u001b[32;49m25.0.1\u001b[0m\n",
      "\u001b[1m[\u001b[0m\u001b[34;49mnotice\u001b[0m\u001b[1;39;49m]\u001b[0m\u001b[39;49m To update, run: \u001b[0m\u001b[32;49mpip3 install --upgrade pip\u001b[0m\n",
      "Note: you may need to restart the kernel to use updated packages.\n"
     ]
    }
   ],
   "source": [
    "pip install request"
   ]
  },
  {
   "cell_type": "code",
   "execution_count": 4,
   "id": "b7b24355-de66-444a-99d3-8dd9d7e0f18a",
   "metadata": {},
   "outputs": [],
   "source": [
    "season =\"2023-2024\""
   ]
  },
  {
   "cell_type": "code",
   "execution_count": 5,
   "id": "978d7489-328a-4f1c-adf1-c2eb101d3416",
   "metadata": {},
   "outputs": [],
   "source": [
    "url = f\"https://www.nba.com/stats/teams/advanced?PerMode=Per100Possessions&SeasonType=Regular+Season&Season={season}\""
   ]
  },
  {
   "cell_type": "code",
   "execution_count": 6,
   "id": "cfff0906-7467-44de-b952-13febaadcdb2",
   "metadata": {},
   "outputs": [
    {
     "name": "stdout",
     "output_type": "stream",
     "text": [
      "https://www.nba.com/stats/teams/advanced?PerMode=Per100Possessions&SeasonType=Regular+Season&Season=2023-2024\n"
     ]
    }
   ],
   "source": [
    "print(url)"
   ]
  },
  {
   "cell_type": "code",
   "execution_count": 13,
   "id": "380c3368-9d7d-4aa0-8219-d4c531a5ea98",
   "metadata": {},
   "outputs": [],
   "source": [
    "seasons = [\n",
    "    \"2024-25\", \"2023-24\", \"2022-23\",\n",
    "    \"2021-22\",\"2020-21\",\"2019-20\",\"2018-19\",\n",
    "    \"2017-18\",\"2016-17\",\"2015-16\",\"2014-15\",\n",
    "    \"2013-14\",\"2012-13\",\"2011-12\",\"2010-11\",\n",
    "    \"2009-10\",\"2008-09\",\"2007-08\",\"2006-07\",\n",
    "    \"2005-06\",\"2004-05\",\"2003-04\",\"2002-03\",\n",
    "    \"2001-02\",\"2000-01\",\"1999-00\",\"1998-99\",\n",
    "    \"1997-98\" , \"1996-97\"]"
   ]
  },
  {
   "cell_type": "code",
   "execution_count": 14,
   "id": "8e821817-b2bf-4b62-993f-d94b16b275f7",
   "metadata": {},
   "outputs": [
    {
     "name": "stdout",
     "output_type": "stream",
     "text": [
      "['2024-25', '2023-24', '2022-23', '2021-22', '2020-21', '2019-20', '2018-19', '2017-18', '2016-17', '2015-16', '2014-15', '2013-14', '2012-13', '2011-12', '2010-11', '2009-10', '2008-09', '2007-08', '2006-07', '2005-06', '2004-05', '2003-04', '2002-03', '2001-02', '2000-01', '1999-00', '1998-99', '1997-98', '1996-97']\n"
     ]
    }
   ],
   "source": [
    "print(seasons)"
   ]
  },
  {
   "cell_type": "code",
   "execution_count": 15,
   "id": "08e66d5e-52d6-4c86-a5df-c0625c1bb899",
   "metadata": {},
   "outputs": [],
   "source": [
    "import pandas as pd"
   ]
  },
  {
   "cell_type": "code",
   "execution_count": 22,
   "id": "8d11aa64-8e0c-4374-8d69-34435b3e8319",
   "metadata": {},
   "outputs": [],
   "source": [
    "import requests"
   ]
  },
  {
   "cell_type": "code",
   "execution_count": 91,
   "id": "03f71e5e-3d7b-4a69-bdfa-1c8f1365e0df",
   "metadata": {},
   "outputs": [
    {
     "name": "stdout",
     "output_type": "stream",
     "text": [
      "{\"resource\": \"leaguedashteamstats\", \"parameters\": {\"MeasureType\": \"Advanced\", \"PerMode\": \"Per100Possessions\", \"PlusMinus\": \"N\", \"PaceAdjust\": \"N\", \"Rank\": \"N\", \"LeagueID\": null, \"Season\": \"2024-25\", \"SeasonType\": \"Regular Season\", \"PORound\": null, \"Outcome\": null, \"Location\": null, \"Month\": 0, \"SeasonSegment\": null, \"DateFrom\": null, \"DateTo\": null, \"OpponentTeamID\": 0, \"VsConference\": null, \"VsDivision\": null, \"TeamID\": null, \"Conference\": null, \"Division\": null, \"GameSegment\": null, \"Period\": 0, \"ShotClockRange\": null, \"LastNGames\": 0, \"GameScope\": null, \"PlayerExperience\": null, \"PlayerPosition\": null, \"StarterBench\": null, \"TwoWay\": null, \"GameSubtype\": null, \"ISTRound\": null}, \"resultSets\": [{\"name\": \"LeagueDashTeamStats\", \"headers\": [\"TEAM_ID\", \"TEAM_NAME\", \"GP\", \"W\", \"L\", \"W_PCT\", \"MIN\", \"E_OFF_RATING\", \"OFF_RATING\", \"E_DEF_RATING\", \"DEF_RATING\", \"E_NET_RATING\", \"NET_RATING\", \"AST_PCT\", \"AST_TO\", \"AST_RATIO\", \"OREB_PCT\", \"DREB_PCT\", \"REB_PCT\", \"TM_TOV_PCT\", \"EFG_PCT\", \"TS_PCT\", \"E_PACE\", \"PACE\", \"PACE_PER40\", \"POSS\", \"PIE\", \"GP_RANK\", \"W_RANK\", \"L_RANK\", \"W_PCT_RANK\", \"MIN_RANK\", \"OFF_RATING_RANK\", \"DEF_RATING_RANK\", \"NET_RATING_RANK\", \"AST_PCT_RANK\", \"AST_TO_RANK\", \"AST_RATIO_RANK\", \"OREB_PCT_RANK\", \"DREB_PCT_RANK\", \"REB_PCT_RANK\", \"TM_TOV_PCT_RANK\", \"EFG_PCT_RANK\", \"TS_PCT_RANK\", \"PACE_RANK\", \"PIE_RANK\"], \"rowSet\": [[1610612737, \"Atlanta Hawks\", 56, 26, 30, 0.464, 2708.0, 109.4, 111.1, 111.7, 113.5, -2.4, -2.4, 0.689, 1.84, 19.6, 0.297, 0.721, 0.503, 0.152, 0.532, 0.568, 105.8, 104.1, 86.75, 5874, 0.493, 2, 18, 21, 20, 3, 23, 15, 21, 3, 16, 10, 13, 7, 13, 20, 20, 20, 2, 20], [1610612738, \"Boston Celtics\", 56, 40, 16, 0.714, 2713.0, 116.9, 119.0, 107.4, 109.6, 9.5, 9.4, 0.623, 2.2, 18.7, 0.281, 0.721, 0.502, 0.12, 0.559, 0.59, 99.6, 97.72, 81.43, 5523, 0.541, 2, 3, 3, 3, 2, 4, 5, 3, 19, 3, 15, 21, 6, 15, 2, 7, 9, 26, 3], [1610612751, \"Brooklyn Nets\", 55, 20, 35, 0.364, 2655.0, 105.6, 108.4, 111.9, 114.5, -6.3, -6.1, 0.657, 1.6, 18.2, 0.294, 0.699, 0.489, 0.16, 0.518, 0.555, 98.7, 96.28, 80.23, 5321, 0.458, 8, 24, 24, 24, 13, 27, 22, 27, 10, 24, 20, 15, 23, 25, 27, 25, 25, 30, 28], [1610612766, \"Charlotte Hornets\", 54, 14, 40, 0.259, 2607.0, 105.2, 107.8, 111.2, 113.3, -6.1, -5.5, 0.622, 1.57, 17.2, 0.314, 0.708, 0.504, 0.154, 0.505, 0.54, 100.2, 98.1, 81.75, 5325, 0.464, 22, 27, 27, 27, 23, 28, 13, 25, 20, 27, 26, 5, 13, 12, 23, 29, 30, 24, 25], [1610612741, \"Chicago Bulls\", 56, 22, 34, 0.393, 2698.0, 110.0, 111.4, 113.5, 116.1, -3.5, -4.7, 0.676, 1.91, 19.7, 0.256, 0.719, 0.49, 0.145, 0.549, 0.579, 105.4, 103.57, 86.31, 5828, 0.48, 2, 23, 23, 23, 5, 19, 27, 23, 6, 13, 8, 28, 9, 23, 18, 12, 13, 3, 22], [1610612739, \"Cleveland Cavaliers\", 55, 45, 10, 0.818, 2640.0, 119.8, 121.6, 108.4, 111.2, 11.4, 10.5, 0.645, 2.2, 20.2, 0.286, 0.703, 0.502, 0.131, 0.585, 0.614, 102.6, 100.55, 83.8, 5537, 0.551, 8, 1, 1, 1, 20, 1, 8, 2, 12, 2, 3, 18, 18, 14, 3, 1, 1, 7, 2], [1610612742, \"Dallas Mavericks\", 56, 30, 26, 0.536, 2698.0, 113.7, 115.4, 111.1, 113.5, 2.6, 1.9, 0.597, 1.78, 18.1, 0.292, 0.692, 0.498, 0.141, 0.553, 0.587, 101.5, 99.78, 83.15, 5615, 0.511, 2, 12, 13, 13, 5, 7, 14, 10, 26, 17, 21, 16, 26, 16, 16, 10, 10, 15, 12], [1610612743, \"Denver Nuggets\", 56, 37, 19, 0.661, 2708.0, 118.0, 119.7, 111.6, 113.7, 6.3, 5.9, 0.681, 2.21, 21.2, 0.31, 0.707, 0.52, 0.139, 0.576, 0.607, 102.7, 101.01, 84.17, 5694, 0.537, 2, 4, 5, 5, 3, 2, 18, 5, 5, 1, 1, 7, 14, 3, 11, 2, 2, 5, 4], [1610612765, \"Detroit Pistons\", 55, 29, 26, 0.527, 2660.0, 110.4, 113.1, 110.3, 112.4, 0.1, 0.7, 0.616, 1.69, 18.3, 0.308, 0.725, 0.516, 0.153, 0.542, 0.574, 101.9, 99.74, 83.11, 5522, 0.498, 8, 14, 13, 14, 9, 15, 12, 14, 22, 21, 18, 8, 5, 5, 21, 14, 17, 16, 18], [1610612744, \"Golden State Warriors\", 55, 28, 27, 0.509, 2645.0, 109.7, 112.1, 109.4, 111.8, 0.2, 0.3, 0.704, 2.06, 19.7, 0.312, 0.717, 0.507, 0.139, 0.527, 0.555, 101.8, 99.67, 83.06, 5492, 0.497, 8, 15, 15, 15, 18, 17, 9, 16, 1, 7, 7, 6, 10, 9, 13, 23, 24, 17, 19], [1610612745, \"Houston Rockets\", 55, 34, 21, 0.618, 2655.0, 109.8, 113.6, 106.8, 109.3, 3.0, 4.4, 0.545, 1.64, 16.0, 0.363, 0.704, 0.528, 0.139, 0.511, 0.545, 101.6, 98.77, 82.31, 5457, 0.514, 8, 7, 7, 7, 13, 13, 4, 7, 30, 23, 30, 1, 17, 1, 12, 28, 28, 20, 8], [1610612754, \"Indiana Pacers\", 54, 31, 23, 0.574, 2607.0, 113.4, 114.6, 112.2, 114.2, 1.2, 0.3, 0.666, 2.17, 20.3, 0.255, 0.704, 0.483, 0.131, 0.56, 0.591, 102.2, 100.7, 83.92, 5477, 0.512, 22, 9, 9, 9, 23, 9, 20, 15, 8, 5, 2, 29, 16, 28, 5, 5, 6, 6, 11], [1610612746, \"LA Clippers\", 55, 31, 24, 0.564, 2655.0, 109.5, 111.5, 107.2, 108.5, 2.3, 3.0, 0.606, 1.56, 18.0, 0.285, 0.733, 0.512, 0.16, 0.542, 0.578, 100.5, 99.02, 82.52, 5471, 0.513, 8, 9, 10, 10, 13, 18, 2, 9, 24, 28, 23, 19, 1, 7, 28, 16, 14, 19, 10], [1610612747, \"Los Angeles Lakers\", 53, 32, 21, 0.604, 2549.0, 112.8, 114.3, 111.1, 113.6, 1.7, 0.7, 0.649, 1.95, 19.5, 0.263, 0.703, 0.49, 0.139, 0.554, 0.591, 100.4, 98.66, 82.22, 5240, 0.513, 28, 8, 7, 8, 30, 10, 16, 13, 11, 10, 11, 25, 19, 24, 10, 9, 8, 22, 9], [1610612763, \"Memphis Grizzlies\", 55, 36, 19, 0.655, 2640.0, 114.7, 117.7, 108.3, 111.1, 6.4, 6.6, 0.644, 1.76, 19.3, 0.344, 0.699, 0.524, 0.158, 0.559, 0.592, 107.2, 104.49, 87.08, 5753, 0.536, 8, 6, 5, 6, 20, 5, 7, 4, 13, 19, 12, 2, 22, 2, 26, 6, 5, 1, 5], [1610612748, \"Miami Heat\", 53, 25, 28, 0.472, 2579.0, 109.4, 111.2, 110.6, 112.2, -1.2, -0.9, 0.664, 1.92, 19.0, 0.262, 0.72, 0.493, 0.139, 0.534, 0.569, 98.9, 97.39, 81.16, 5234, 0.498, 28, 20, 17, 19, 28, 21, 10, 17, 9, 12, 13, 26, 8, 20, 9, 19, 19, 27, 17], [1610612749, \"Milwaukee Bucks\", 54, 30, 24, 0.556, 2597.0, 112.1, 113.7, 110.7, 112.4, 1.5, 1.3, 0.604, 1.84, 18.4, 0.239, 0.725, 0.491, 0.136, 0.563, 0.591, 101.8, 100.29, 83.57, 5430, 0.506, 22, 12, 10, 11, 26, 12, 11, 11, 25, 15, 17, 30, 4, 22, 7, 4, 7, 9, 14], [1610612750, \"Minnesota Timberwolves\", 56, 31, 25, 0.554, 2698.0, 111.5, 113.6, 107.8, 110.2, 3.7, 3.4, 0.634, 1.67, 18.3, 0.3, 0.707, 0.506, 0.154, 0.546, 0.58, 99.8, 97.8, 81.5, 5499, 0.516, 2, 9, 12, 12, 5, 14, 6, 8, 15, 22, 19, 12, 15, 10, 22, 13, 12, 25, 7], [1610612740, \"New Orleans Pelicans\", 55, 13, 42, 0.236, 2655.0, 107.8, 109.9, 116.1, 118.7, -8.3, -8.7, 0.624, 1.77, 17.9, 0.295, 0.671, 0.477, 0.142, 0.517, 0.552, 102.2, 100.05, 83.37, 5532, 0.455, 8, 28, 29, 29, 13, 25, 29, 29, 18, 18, 24, 14, 30, 29, 17, 26, 26, 12, 29], [1610612752, \"New York Knicks\", 55, 37, 18, 0.673, 2660.0, 117.3, 119.5, 112.1, 113.7, 5.1, 5.9, 0.626, 2.11, 19.6, 0.306, 0.713, 0.513, 0.132, 0.566, 0.599, 99.9, 98.21, 81.84, 5444, 0.534, 8, 4, 4, 4, 9, 3, 17, 6, 17, 6, 9, 9, 11, 6, 6, 3, 3, 23, 6], [1610612760, \"Oklahoma City Thunder\", 54, 44, 10, 0.815, 2592.0, 115.4, 117.3, 102.5, 104.5, 12.9, 12.8, 0.596, 2.19, 18.6, 0.283, 0.695, 0.492, 0.119, 0.55, 0.583, 102.2, 100.42, 83.68, 5424, 0.563, 22, 2, 1, 2, 27, 6, 1, 1, 27, 4, 16, 20, 25, 21, 1, 11, 11, 8, 1], [1610612753, \"Orlando Magic\", 57, 28, 29, 0.491, 2746.0, 104.9, 107.4, 106.6, 108.7, -1.7, -1.3, 0.609, 1.58, 17.0, 0.303, 0.731, 0.504, 0.15, 0.504, 0.542, 98.8, 96.67, 80.56, 5530, 0.489, 1, 15, 18, 17, 1, 29, 3, 18, 23, 25, 28, 11, 2, 11, 19, 30, 29, 29, 21], [1610612755, \"Philadelphia 76ers\", 55, 20, 35, 0.364, 2660.0, 109.3, 111.1, 113.3, 115.3, -4.0, -4.1, 0.586, 1.71, 17.1, 0.268, 0.686, 0.469, 0.137, 0.528, 0.567, 99.1, 97.37, 81.14, 5395, 0.467, 8, 24, 24, 24, 9, 22, 23, 22, 28, 20, 27, 24, 28, 30, 8, 22, 21, 28, 24], [1610612756, \"Phoenix Suns\", 55, 26, 29, 0.473, 2660.0, 112.8, 113.8, 114.2, 115.7, -1.4, -1.9, 0.675, 1.95, 19.8, 0.256, 0.701, 0.488, 0.141, 0.556, 0.592, 99.8, 98.72, 82.26, 5469, 0.501, 8, 18, 18, 18, 9, 11, 25, 20, 7, 11, 6, 27, 20, 26, 15, 8, 4, 21, 16], [1610612757, \"Portland Trail Blazers\", 55, 23, 32, 0.418, 2645.0, 107.3, 110.2, 113.7, 115.6, -6.4, -5.4, 0.583, 1.46, 16.8, 0.322, 0.678, 0.495, 0.161, 0.52, 0.555, 101.2, 99.06, 82.55, 5452, 0.461, 8, 22, 22, 22, 18, 24, 24, 24, 29, 29, 29, 3, 29, 18, 29, 24, 23, 18, 27], [1610612758, \"Sacramento Kings\", 55, 28, 27, 0.509, 2675.0, 113.1, 115.3, 112.3, 114.3, 0.8, 1.0, 0.62, 2.02, 18.8, 0.291, 0.728, 0.509, 0.131, 0.542, 0.577, 101.9, 100.1, 83.42, 5573, 0.506, 8, 15, 15, 15, 8, 8, 21, 12, 21, 9, 14, 17, 3, 8, 4, 15, 15, 11, 15], [1610612759, \"San Antonio Spurs\", 53, 24, 29, 0.453, 2554.0, 110.9, 112.5, 111.7, 114.0, -0.8, -1.5, 0.701, 2.05, 20.2, 0.28, 0.701, 0.494, 0.141, 0.539, 0.572, 101.8, 100.01, 83.34, 5327, 0.507, 28, 21, 18, 21, 29, 16, 19, 19, 2, 8, 4, 22, 21, 19, 14, 17, 18, 14, 13], [1610612761, \"Toronto Raptors\", 55, 17, 38, 0.309, 2655.0, 107.7, 109.9, 113.6, 115.8, -5.9, -5.8, 0.688, 1.85, 19.9, 0.305, 0.689, 0.496, 0.154, 0.53, 0.56, 102.0, 100.04, 83.37, 5532, 0.474, 8, 26, 26, 26, 13, 26, 26, 26, 4, 14, 5, 10, 27, 17, 24, 21, 22, 13, 23], [1610612762, \"Utah Jazz\", 54, 13, 41, 0.241, 2612.0, 109.1, 111.3, 116.7, 118.3, -7.6, -7.0, 0.637, 1.46, 18.0, 0.318, 0.713, 0.517, 0.174, 0.538, 0.576, 101.8, 100.12, 83.43, 5447, 0.464, 22, 28, 28, 28, 22, 20, 28, 28, 14, 30, 22, 4, 12, 4, 30, 18, 16, 10, 26], [1610612764, \"Washington Wizards\", 54, 9, 45, 0.167, 2602.0, 103.6, 105.7, 117.1, 118.7, -13.5, -13.0, 0.632, 1.57, 17.7, 0.278, 0.698, 0.484, 0.156, 0.511, 0.545, 104.1, 102.36, 85.3, 5547, 0.43, 22, 30, 30, 30, 25, 30, 30, 30, 16, 26, 25, 23, 24, 27, 25, 27, 27, 4, 30]]}]}\n"
     ]
    }
   ],
   "source": [
    "print(stats_2024.get_json())"
   ]
  },
  {
   "cell_type": "code",
   "execution_count": 122,
   "id": "48d2f536-ae40-4dd1-a7ab-de81084034c9",
   "metadata": {},
   "outputs": [],
   "source": [
    "stats_2024_dic = json.loads(stats_2024.get_json())"
   ]
  },
  {
   "cell_type": "code",
   "execution_count": 123,
   "id": "07e27af3-857a-4a97-94c9-d3637a94f761",
   "metadata": {},
   "outputs": [
    {
     "name": "stdout",
     "output_type": "stream",
     "text": [
      "[{'name': 'LeagueDashTeamStats', 'headers': ['TEAM_ID', 'TEAM_NAME', 'GP', 'W', 'L', 'W_PCT', 'MIN', 'E_OFF_RATING', 'OFF_RATING', 'E_DEF_RATING', 'DEF_RATING', 'E_NET_RATING', 'NET_RATING', 'AST_PCT', 'AST_TO', 'AST_RATIO', 'OREB_PCT', 'DREB_PCT', 'REB_PCT', 'TM_TOV_PCT', 'EFG_PCT', 'TS_PCT', 'E_PACE', 'PACE', 'PACE_PER40', 'POSS', 'PIE', 'GP_RANK', 'W_RANK', 'L_RANK', 'W_PCT_RANK', 'MIN_RANK', 'OFF_RATING_RANK', 'DEF_RATING_RANK', 'NET_RATING_RANK', 'AST_PCT_RANK', 'AST_TO_RANK', 'AST_RATIO_RANK', 'OREB_PCT_RANK', 'DREB_PCT_RANK', 'REB_PCT_RANK', 'TM_TOV_PCT_RANK', 'EFG_PCT_RANK', 'TS_PCT_RANK', 'PACE_RANK', 'PIE_RANK'], 'rowSet': [[1610612737, 'Atlanta Hawks', 56, 26, 30, 0.464, 2708.0, 109.4, 111.1, 111.7, 113.5, -2.4, -2.4, 0.689, 1.84, 19.6, 0.297, 0.721, 0.503, 0.152, 0.532, 0.568, 105.8, 104.1, 86.75, 5874, 0.493, 2, 18, 21, 20, 3, 23, 15, 21, 3, 16, 10, 13, 7, 13, 20, 20, 20, 2, 20], [1610612738, 'Boston Celtics', 56, 40, 16, 0.714, 2713.0, 116.9, 119.0, 107.4, 109.6, 9.5, 9.4, 0.623, 2.2, 18.7, 0.281, 0.721, 0.502, 0.12, 0.559, 0.59, 99.6, 97.72, 81.43, 5523, 0.541, 2, 3, 3, 3, 2, 4, 5, 3, 19, 3, 15, 21, 6, 15, 2, 7, 9, 26, 3], [1610612751, 'Brooklyn Nets', 55, 20, 35, 0.364, 2655.0, 105.6, 108.4, 111.9, 114.5, -6.3, -6.1, 0.657, 1.6, 18.2, 0.294, 0.699, 0.489, 0.16, 0.518, 0.555, 98.7, 96.28, 80.23, 5321, 0.458, 8, 24, 24, 24, 13, 27, 22, 27, 10, 24, 20, 15, 23, 25, 27, 25, 25, 30, 28], [1610612766, 'Charlotte Hornets', 54, 14, 40, 0.259, 2607.0, 105.2, 107.8, 111.2, 113.3, -6.1, -5.5, 0.622, 1.57, 17.2, 0.314, 0.708, 0.504, 0.154, 0.505, 0.54, 100.2, 98.1, 81.75, 5325, 0.464, 22, 27, 27, 27, 23, 28, 13, 25, 20, 27, 26, 5, 13, 12, 23, 29, 30, 24, 25], [1610612741, 'Chicago Bulls', 56, 22, 34, 0.393, 2698.0, 110.0, 111.4, 113.5, 116.1, -3.5, -4.7, 0.676, 1.91, 19.7, 0.256, 0.719, 0.49, 0.145, 0.549, 0.579, 105.4, 103.57, 86.31, 5828, 0.48, 2, 23, 23, 23, 5, 19, 27, 23, 6, 13, 8, 28, 9, 23, 18, 12, 13, 3, 22], [1610612739, 'Cleveland Cavaliers', 55, 45, 10, 0.818, 2640.0, 119.8, 121.6, 108.4, 111.2, 11.4, 10.5, 0.645, 2.2, 20.2, 0.286, 0.703, 0.502, 0.131, 0.585, 0.614, 102.6, 100.55, 83.8, 5537, 0.551, 8, 1, 1, 1, 20, 1, 8, 2, 12, 2, 3, 18, 18, 14, 3, 1, 1, 7, 2], [1610612742, 'Dallas Mavericks', 56, 30, 26, 0.536, 2698.0, 113.7, 115.4, 111.1, 113.5, 2.6, 1.9, 0.597, 1.78, 18.1, 0.292, 0.692, 0.498, 0.141, 0.553, 0.587, 101.5, 99.78, 83.15, 5615, 0.511, 2, 12, 13, 13, 5, 7, 14, 10, 26, 17, 21, 16, 26, 16, 16, 10, 10, 15, 12], [1610612743, 'Denver Nuggets', 56, 37, 19, 0.661, 2708.0, 118.0, 119.7, 111.6, 113.7, 6.3, 5.9, 0.681, 2.21, 21.2, 0.31, 0.707, 0.52, 0.139, 0.576, 0.607, 102.7, 101.01, 84.17, 5694, 0.537, 2, 4, 5, 5, 3, 2, 18, 5, 5, 1, 1, 7, 14, 3, 11, 2, 2, 5, 4], [1610612765, 'Detroit Pistons', 55, 29, 26, 0.527, 2660.0, 110.4, 113.1, 110.3, 112.4, 0.1, 0.7, 0.616, 1.69, 18.3, 0.308, 0.725, 0.516, 0.153, 0.542, 0.574, 101.9, 99.74, 83.11, 5522, 0.498, 8, 14, 13, 14, 9, 15, 12, 14, 22, 21, 18, 8, 5, 5, 21, 14, 17, 16, 18], [1610612744, 'Golden State Warriors', 55, 28, 27, 0.509, 2645.0, 109.7, 112.1, 109.4, 111.8, 0.2, 0.3, 0.704, 2.06, 19.7, 0.312, 0.717, 0.507, 0.139, 0.527, 0.555, 101.8, 99.67, 83.06, 5492, 0.497, 8, 15, 15, 15, 18, 17, 9, 16, 1, 7, 7, 6, 10, 9, 13, 23, 24, 17, 19], [1610612745, 'Houston Rockets', 55, 34, 21, 0.618, 2655.0, 109.8, 113.6, 106.8, 109.3, 3.0, 4.4, 0.545, 1.64, 16.0, 0.363, 0.704, 0.528, 0.139, 0.511, 0.545, 101.6, 98.77, 82.31, 5457, 0.514, 8, 7, 7, 7, 13, 13, 4, 7, 30, 23, 30, 1, 17, 1, 12, 28, 28, 20, 8], [1610612754, 'Indiana Pacers', 54, 31, 23, 0.574, 2607.0, 113.4, 114.6, 112.2, 114.2, 1.2, 0.3, 0.666, 2.17, 20.3, 0.255, 0.704, 0.483, 0.131, 0.56, 0.591, 102.2, 100.7, 83.92, 5477, 0.512, 22, 9, 9, 9, 23, 9, 20, 15, 8, 5, 2, 29, 16, 28, 5, 5, 6, 6, 11], [1610612746, 'LA Clippers', 55, 31, 24, 0.564, 2655.0, 109.5, 111.5, 107.2, 108.5, 2.3, 3.0, 0.606, 1.56, 18.0, 0.285, 0.733, 0.512, 0.16, 0.542, 0.578, 100.5, 99.02, 82.52, 5471, 0.513, 8, 9, 10, 10, 13, 18, 2, 9, 24, 28, 23, 19, 1, 7, 28, 16, 14, 19, 10], [1610612747, 'Los Angeles Lakers', 53, 32, 21, 0.604, 2549.0, 112.8, 114.3, 111.1, 113.6, 1.7, 0.7, 0.649, 1.95, 19.5, 0.263, 0.703, 0.49, 0.139, 0.554, 0.591, 100.4, 98.66, 82.22, 5240, 0.513, 28, 8, 7, 8, 30, 10, 16, 13, 11, 10, 11, 25, 19, 24, 10, 9, 8, 22, 9], [1610612763, 'Memphis Grizzlies', 55, 36, 19, 0.655, 2640.0, 114.7, 117.7, 108.3, 111.1, 6.4, 6.6, 0.644, 1.76, 19.3, 0.344, 0.699, 0.524, 0.158, 0.559, 0.592, 107.2, 104.49, 87.08, 5753, 0.536, 8, 6, 5, 6, 20, 5, 7, 4, 13, 19, 12, 2, 22, 2, 26, 6, 5, 1, 5], [1610612748, 'Miami Heat', 53, 25, 28, 0.472, 2579.0, 109.4, 111.2, 110.6, 112.2, -1.2, -0.9, 0.664, 1.92, 19.0, 0.262, 0.72, 0.493, 0.139, 0.534, 0.569, 98.9, 97.39, 81.16, 5234, 0.498, 28, 20, 17, 19, 28, 21, 10, 17, 9, 12, 13, 26, 8, 20, 9, 19, 19, 27, 17], [1610612749, 'Milwaukee Bucks', 54, 30, 24, 0.556, 2597.0, 112.1, 113.7, 110.7, 112.4, 1.5, 1.3, 0.604, 1.84, 18.4, 0.239, 0.725, 0.491, 0.136, 0.563, 0.591, 101.8, 100.29, 83.57, 5430, 0.506, 22, 12, 10, 11, 26, 12, 11, 11, 25, 15, 17, 30, 4, 22, 7, 4, 7, 9, 14], [1610612750, 'Minnesota Timberwolves', 56, 31, 25, 0.554, 2698.0, 111.5, 113.6, 107.8, 110.2, 3.7, 3.4, 0.634, 1.67, 18.3, 0.3, 0.707, 0.506, 0.154, 0.546, 0.58, 99.8, 97.8, 81.5, 5499, 0.516, 2, 9, 12, 12, 5, 14, 6, 8, 15, 22, 19, 12, 15, 10, 22, 13, 12, 25, 7], [1610612740, 'New Orleans Pelicans', 55, 13, 42, 0.236, 2655.0, 107.8, 109.9, 116.1, 118.7, -8.3, -8.7, 0.624, 1.77, 17.9, 0.295, 0.671, 0.477, 0.142, 0.517, 0.552, 102.2, 100.05, 83.37, 5532, 0.455, 8, 28, 29, 29, 13, 25, 29, 29, 18, 18, 24, 14, 30, 29, 17, 26, 26, 12, 29], [1610612752, 'New York Knicks', 55, 37, 18, 0.673, 2660.0, 117.3, 119.5, 112.1, 113.7, 5.1, 5.9, 0.626, 2.11, 19.6, 0.306, 0.713, 0.513, 0.132, 0.566, 0.599, 99.9, 98.21, 81.84, 5444, 0.534, 8, 4, 4, 4, 9, 3, 17, 6, 17, 6, 9, 9, 11, 6, 6, 3, 3, 23, 6], [1610612760, 'Oklahoma City Thunder', 54, 44, 10, 0.815, 2592.0, 115.4, 117.3, 102.5, 104.5, 12.9, 12.8, 0.596, 2.19, 18.6, 0.283, 0.695, 0.492, 0.119, 0.55, 0.583, 102.2, 100.42, 83.68, 5424, 0.563, 22, 2, 1, 2, 27, 6, 1, 1, 27, 4, 16, 20, 25, 21, 1, 11, 11, 8, 1], [1610612753, 'Orlando Magic', 57, 28, 29, 0.491, 2746.0, 104.9, 107.4, 106.6, 108.7, -1.7, -1.3, 0.609, 1.58, 17.0, 0.303, 0.731, 0.504, 0.15, 0.504, 0.542, 98.8, 96.67, 80.56, 5530, 0.489, 1, 15, 18, 17, 1, 29, 3, 18, 23, 25, 28, 11, 2, 11, 19, 30, 29, 29, 21], [1610612755, 'Philadelphia 76ers', 55, 20, 35, 0.364, 2660.0, 109.3, 111.1, 113.3, 115.3, -4.0, -4.1, 0.586, 1.71, 17.1, 0.268, 0.686, 0.469, 0.137, 0.528, 0.567, 99.1, 97.37, 81.14, 5395, 0.467, 8, 24, 24, 24, 9, 22, 23, 22, 28, 20, 27, 24, 28, 30, 8, 22, 21, 28, 24], [1610612756, 'Phoenix Suns', 55, 26, 29, 0.473, 2660.0, 112.8, 113.8, 114.2, 115.7, -1.4, -1.9, 0.675, 1.95, 19.8, 0.256, 0.701, 0.488, 0.141, 0.556, 0.592, 99.8, 98.72, 82.26, 5469, 0.501, 8, 18, 18, 18, 9, 11, 25, 20, 7, 11, 6, 27, 20, 26, 15, 8, 4, 21, 16], [1610612757, 'Portland Trail Blazers', 55, 23, 32, 0.418, 2645.0, 107.3, 110.2, 113.7, 115.6, -6.4, -5.4, 0.583, 1.46, 16.8, 0.322, 0.678, 0.495, 0.161, 0.52, 0.555, 101.2, 99.06, 82.55, 5452, 0.461, 8, 22, 22, 22, 18, 24, 24, 24, 29, 29, 29, 3, 29, 18, 29, 24, 23, 18, 27], [1610612758, 'Sacramento Kings', 55, 28, 27, 0.509, 2675.0, 113.1, 115.3, 112.3, 114.3, 0.8, 1.0, 0.62, 2.02, 18.8, 0.291, 0.728, 0.509, 0.131, 0.542, 0.577, 101.9, 100.1, 83.42, 5573, 0.506, 8, 15, 15, 15, 8, 8, 21, 12, 21, 9, 14, 17, 3, 8, 4, 15, 15, 11, 15], [1610612759, 'San Antonio Spurs', 53, 24, 29, 0.453, 2554.0, 110.9, 112.5, 111.7, 114.0, -0.8, -1.5, 0.701, 2.05, 20.2, 0.28, 0.701, 0.494, 0.141, 0.539, 0.572, 101.8, 100.01, 83.34, 5327, 0.507, 28, 21, 18, 21, 29, 16, 19, 19, 2, 8, 4, 22, 21, 19, 14, 17, 18, 14, 13], [1610612761, 'Toronto Raptors', 55, 17, 38, 0.309, 2655.0, 107.7, 109.9, 113.6, 115.8, -5.9, -5.8, 0.688, 1.85, 19.9, 0.305, 0.689, 0.496, 0.154, 0.53, 0.56, 102.0, 100.04, 83.37, 5532, 0.474, 8, 26, 26, 26, 13, 26, 26, 26, 4, 14, 5, 10, 27, 17, 24, 21, 22, 13, 23], [1610612762, 'Utah Jazz', 54, 13, 41, 0.241, 2612.0, 109.1, 111.3, 116.7, 118.3, -7.6, -7.0, 0.637, 1.46, 18.0, 0.318, 0.713, 0.517, 0.174, 0.538, 0.576, 101.8, 100.12, 83.43, 5447, 0.464, 22, 28, 28, 28, 22, 20, 28, 28, 14, 30, 22, 4, 12, 4, 30, 18, 16, 10, 26], [1610612764, 'Washington Wizards', 54, 9, 45, 0.167, 2602.0, 103.6, 105.7, 117.1, 118.7, -13.5, -13.0, 0.632, 1.57, 17.7, 0.278, 0.698, 0.484, 0.156, 0.511, 0.545, 104.1, 102.36, 85.3, 5547, 0.43, 22, 30, 30, 30, 25, 30, 30, 30, 16, 26, 25, 23, 24, 27, 25, 27, 27, 4, 30]]}]\n"
     ]
    }
   ],
   "source": [
    "print(stats_2024_dic['resultSets'])"
   ]
  },
  {
   "cell_type": "code",
   "execution_count": 129,
   "id": "d644467b-b7b4-4a8d-ba22-0293b9359186",
   "metadata": {},
   "outputs": [
    {
     "name": "stdout",
     "output_type": "stream",
     "text": [
      "['TEAM_ID', 'TEAM_NAME', 'GP', 'W', 'L', 'W_PCT', 'MIN', 'E_OFF_RATING', 'OFF_RATING', 'E_DEF_RATING', 'DEF_RATING', 'E_NET_RATING', 'NET_RATING', 'AST_PCT', 'AST_TO', 'AST_RATIO', 'OREB_PCT', 'DREB_PCT', 'REB_PCT', 'TM_TOV_PCT', 'EFG_PCT', 'TS_PCT', 'E_PACE', 'PACE', 'PACE_PER40', 'POSS', 'PIE', 'GP_RANK', 'W_RANK', 'L_RANK', 'W_PCT_RANK', 'MIN_RANK', 'OFF_RATING_RANK', 'DEF_RATING_RANK', 'NET_RATING_RANK', 'AST_PCT_RANK', 'AST_TO_RANK', 'AST_RATIO_RANK', 'OREB_PCT_RANK', 'DREB_PCT_RANK', 'REB_PCT_RANK', 'TM_TOV_PCT_RANK', 'EFG_PCT_RANK', 'TS_PCT_RANK', 'PACE_RANK', 'PIE_RANK']\n"
     ]
    }
   ],
   "source": [
    "print(stats_2024_dic['resultSets'][0]['headers'])"
   ]
  },
  {
   "cell_type": "code",
   "execution_count": 130,
   "id": "8b54397c-5cc3-47aa-a573-8cb6f7db84a4",
   "metadata": {},
   "outputs": [],
   "source": [
    "headers = stats_2024_dic['resultSets'][0]['headers']"
   ]
  },
  {
   "cell_type": "code",
   "execution_count": 133,
   "id": "4b2a9a54-6483-4527-a7e1-a93d0084a050",
   "metadata": {},
   "outputs": [],
   "source": [
    "headers.append('year')"
   ]
  },
  {
   "cell_type": "code",
   "execution_count": 134,
   "id": "82785bb5-7a9e-4b5a-b6e8-1eee7ba4471a",
   "metadata": {},
   "outputs": [
    {
     "name": "stdout",
     "output_type": "stream",
     "text": [
      "['TEAM_ID', 'TEAM_NAME', 'GP', 'W', 'L', 'W_PCT', 'MIN', 'E_OFF_RATING', 'OFF_RATING', 'E_DEF_RATING', 'DEF_RATING', 'E_NET_RATING', 'NET_RATING', 'AST_PCT', 'AST_TO', 'AST_RATIO', 'OREB_PCT', 'DREB_PCT', 'REB_PCT', 'TM_TOV_PCT', 'EFG_PCT', 'TS_PCT', 'E_PACE', 'PACE', 'PACE_PER40', 'POSS', 'PIE', 'GP_RANK', 'W_RANK', 'L_RANK', 'W_PCT_RANK', 'MIN_RANK', 'OFF_RATING_RANK', 'DEF_RATING_RANK', 'NET_RATING_RANK', 'AST_PCT_RANK', 'AST_TO_RANK', 'AST_RATIO_RANK', 'OREB_PCT_RANK', 'DREB_PCT_RANK', 'REB_PCT_RANK', 'TM_TOV_PCT_RANK', 'EFG_PCT_RANK', 'TS_PCT_RANK', 'PACE_RANK', 'PIE_RANK', 'year']\n"
     ]
    }
   ],
   "source": [
    "print(headers)"
   ]
  },
  {
   "cell_type": "code",
   "execution_count": 148,
   "id": "7381edbb-ef11-4d98-9eae-90ce4f541fb6",
   "metadata": {},
   "outputs": [],
   "source": [
    "def get_all_rows():\n",
    "    allRows = []\n",
    "    for year in seasons:\n",
    "        returned_data = leaguedashteamstats.LeagueDashTeamStats(\n",
    "                                                     measure_type_detailed_defense=\"Advanced\", \n",
    "                                                     per_mode_detailed=\"Per100Possessions\",\n",
    "                                                     season=year,\n",
    "                                                    last_n_games=\"0\",\n",
    "                                                     month=\"0\",\n",
    "                                                     opponent_team_id=\"0\",\n",
    "                                                     pace_adjust=\"N\",\n",
    "                                                     period=\"0\",\n",
    "                                                     plus_minus=\"N\",\n",
    "                                                     rank=\"N\",\n",
    "                                                     season_type_all_star=\"Regular Season\"\n",
    "                                                    )\n",
    "        data_dic = json.loads(returned_data.get_json())\n",
    "        results = data_dic\n",
    "        resultSet = data_dic['resultSets'][0]\n",
    "        rows = resultSet['rowSet']\n",
    "        for row in rows:\n",
    "            row.append(year)\n",
    "        allRows.append(rows)\n",
    "        time.sleep(6)\n",
    "        print(year)\n",
    "    return allRows\n",
    "        "
   ]
  },
  {
   "cell_type": "code",
   "execution_count": 149,
   "id": "77aadcf5-ed87-4afa-bf60-801307c5cf4c",
   "metadata": {},
   "outputs": [
    {
     "name": "stdout",
     "output_type": "stream",
     "text": [
      "2024-25\n",
      "2023-24\n",
      "2022-23\n",
      "2021-22\n",
      "2020-21\n",
      "2019-20\n",
      "2018-19\n",
      "2017-18\n",
      "2016-17\n",
      "2015-16\n",
      "2014-15\n",
      "2013-14\n",
      "2012-13\n",
      "2011-12\n",
      "2010-11\n",
      "2009-10\n",
      "2008-09\n",
      "2007-08\n",
      "2006-07\n",
      "2005-06\n",
      "2004-05\n",
      "2003-04\n",
      "2002-03\n",
      "2001-02\n",
      "2000-01\n",
      "1999-00\n",
      "1998-99\n",
      "1997-98\n",
      "1996-97\n"
     ]
    }
   ],
   "source": [
    "data_rows = get_all_rows()"
   ]
  },
  {
   "cell_type": "code",
   "execution_count": 161,
   "id": "9350eaf0-0c47-4955-be9b-33f1c9c36c0b",
   "metadata": {},
   "outputs": [],
   "source": [
    "all_rows_data =[]\n",
    "\n",
    "for year_data in data_rows:\n",
    "    all_rows_data.extend(year_data)"
   ]
  },
  {
   "cell_type": "code",
   "execution_count": 163,
   "id": "a95dd286-8c67-4916-9fe7-289721b71362",
   "metadata": {},
   "outputs": [
    {
     "name": "stdout",
     "output_type": "stream",
     "text": [
      "862\n"
     ]
    }
   ],
   "source": [
    "print(len(all_rows_data))"
   ]
  },
  {
   "cell_type": "code",
   "execution_count": null,
   "id": "ebcf908c-6256-4a33-9908-57bf9f29f799",
   "metadata": {},
   "outputs": [],
   "source": []
  },
  {
   "cell_type": "code",
   "execution_count": 164,
   "id": "2055255b-db1f-42b6-ad59-a680a03ae714",
   "metadata": {},
   "outputs": [],
   "source": [
    "df = pd.DataFrame(all_rows_data, columns =headers)"
   ]
  },
  {
   "cell_type": "code",
   "execution_count": 165,
   "id": "0a386cc1-5b26-4843-8653-1acb884c0950",
   "metadata": {},
   "outputs": [
    {
     "name": "stdout",
     "output_type": "stream",
     "text": [
      "      TEAM_ID          TEAM_NAME  GP   W   L  W_PCT     MIN  E_OFF_RATING  \\\n",
      "0  1610612737      Atlanta Hawks  56  26  30  0.464  2708.0         109.4   \n",
      "1  1610612738     Boston Celtics  56  40  16  0.714  2713.0         116.9   \n",
      "2  1610612751      Brooklyn Nets  55  20  35  0.364  2655.0         105.6   \n",
      "3  1610612766  Charlotte Hornets  54  14  40  0.259  2607.0         105.2   \n",
      "4  1610612741      Chicago Bulls  56  22  34  0.393  2698.0         110.0   \n",
      "\n",
      "   OFF_RATING  E_DEF_RATING  ...  AST_RATIO_RANK  OREB_PCT_RANK  \\\n",
      "0       111.1         111.7  ...              10             13   \n",
      "1       119.0         107.4  ...              15             21   \n",
      "2       108.4         111.9  ...              20             15   \n",
      "3       107.8         111.2  ...              26              5   \n",
      "4       111.4         113.5  ...               8             28   \n",
      "\n",
      "   DREB_PCT_RANK  REB_PCT_RANK  TM_TOV_PCT_RANK  EFG_PCT_RANK  TS_PCT_RANK  \\\n",
      "0              7            13               20            20           20   \n",
      "1              6            15                2             7            9   \n",
      "2             23            25               27            25           25   \n",
      "3             13            12               23            29           30   \n",
      "4              9            24               18            12           13   \n",
      "\n",
      "   PACE_RANK  PIE_RANK     year  \n",
      "0          2        20  2024-25  \n",
      "1         26         3  2024-25  \n",
      "2         30        28  2024-25  \n",
      "3         24        25  2024-25  \n",
      "4          3        22  2024-25  \n",
      "\n",
      "[5 rows x 47 columns]\n"
     ]
    }
   ],
   "source": [
    "print(df.head())"
   ]
  },
  {
   "cell_type": "code",
   "execution_count": 166,
   "id": "c98d9db1-99c3-4cf1-8a36-b739dfbcd665",
   "metadata": {},
   "outputs": [],
   "source": [
    "df.to_csv('nba_advanced_year.csv', index=False)"
   ]
  },
  {
   "cell_type": "code",
   "execution_count": null,
   "id": "4eddbc00-5d59-4a6d-ba21-34c3b3da7431",
   "metadata": {},
   "outputs": [],
   "source": []
  }
 ],
 "metadata": {
  "kernelspec": {
   "display_name": "Python 3 (ipykernel)",
   "language": "python",
   "name": "python3"
  },
  "language_info": {
   "codemirror_mode": {
    "name": "ipython",
    "version": 3
   },
   "file_extension": ".py",
   "mimetype": "text/x-python",
   "name": "python",
   "nbconvert_exporter": "python",
   "pygments_lexer": "ipython3",
   "version": "3.12.2"
  }
 },
 "nbformat": 4,
 "nbformat_minor": 5
}
